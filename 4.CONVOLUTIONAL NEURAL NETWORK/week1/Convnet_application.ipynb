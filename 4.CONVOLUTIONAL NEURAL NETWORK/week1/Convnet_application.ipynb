{
 "cells": [
  {
   "cell_type": "markdown",
   "metadata": {},
   "source": [
    "## Convolution Neural network: Application"
   ]
  },
  {
   "cell_type": "markdown",
   "metadata": {},
   "source": [
    "#### import the package needed"
   ]
  },
  {
   "cell_type": "code",
   "execution_count": 1,
   "metadata": {},
   "outputs": [],
   "source": [
    "import tensorflow as tf\n",
    "import numpy as np\n",
    "import math\n",
    "import h5py\n",
    "import matplotlib.pyplot as plt\n",
    "import scipy\n",
    "from PIL import Image\n",
    "from scipy import ndimage\n",
    "from tensorflow.python.framework import ops\n",
    "from cnn_utils import *\n",
    "\n",
    "%matplotlib inline\n",
    "np.random.seed(1)"
   ]
  },
  {
   "cell_type": "code",
   "execution_count": 2,
   "metadata": {},
   "outputs": [],
   "source": [
    "# Loading the data (signs)\n",
    "X_train_orig, Y_train_orig, X_test_orig, Y_test_orig, classes = load_dataset()"
   ]
  },
  {
   "cell_type": "code",
   "execution_count": 3,
   "metadata": {},
   "outputs": [
    {
     "name": "stdout",
     "output_type": "stream",
     "text": [
      "[4]\n"
     ]
    },
    {
     "data": {
      "image/png": "[encoded data removed]",
      "text/plain": [
       "<matplotlib.figure.Figure at 0x7f37bf40bbe0>"
      ]
     },
     "metadata": {},
     "output_type": "display_data"
    }
   ],
   "source": [
    "#view the dataset\n",
    "index = 5\n",
    "plt.imshow(X_train_orig[index])\n",
    "print(Y_train_orig[:,index])"
   ]
  },
  {
   "cell_type": "markdown",
   "metadata": {},
   "source": [
    "#### Preprocess the dataset"
   ]
  },
  {
   "cell_type": "code",
   "execution_count": 4,
   "metadata": {},
   "outputs": [
    {
     "data": {
      "text/plain": [
       "((1080, 64, 64, 3), (120, 64, 64, 3))"
      ]
     },
     "execution_count": 4,
     "metadata": {},
     "output_type": "execute_result"
    }
   ],
   "source": [
    "X_train = X_train_orig / 255\n",
    "X_test  = X_test_orig / 255\n",
    "\n",
    "X_train.shape, X_test.shape"
   ]
  },
  {
   "cell_type": "code",
   "execution_count": 5,
   "metadata": {},
   "outputs": [
    {
     "data": {
      "text/plain": [
       "((1080, 6), (120, 6))"
      ]
     },
     "execution_count": 5,
     "metadata": {},
     "output_type": "execute_result"
    }
   ],
   "source": [
    "#one hot representation\n",
    "one_hot = tf.one_hot(Y_train_orig, 6)\n",
    "one_hot_test = tf.one_hot(Y_test_orig,6)\n",
    "\n",
    "with tf.Session() as sess:\n",
    "    Y_train = sess.run([one_hot])\n",
    "    Y_test  = sess.run([one_hot_test])\n",
    "\n",
    "Y_train = np.array(Y_train).reshape([1080,6])\n",
    "Y_test  = np.array(Y_test).reshape([120,6])\n",
    "Y_train.shape, Y_test.shape"
   ]
  },
  {
   "cell_type": "code",
   "execution_count": 6,
   "metadata": {},
   "outputs": [
    {
     "name": "stdout",
     "output_type": "stream",
     "text": [
      "number of training examples = 1080\n",
      "number of test examples = 120\n",
      "X_train shape: (1080, 64, 64, 3)\n",
      "Y_train shape: (1080, 6)\n",
      "X_test shape: (120, 64, 64, 3)\n",
      "Y_test shape: (120, 6)\n"
     ]
    }
   ],
   "source": [
    "print (\"number of training examples = \" + str(X_train.shape[0]))\n",
    "print (\"number of test examples = \" + str(X_test.shape[0]))\n",
    "print (\"X_train shape: \" + str(X_train.shape))\n",
    "print (\"Y_train shape: \" + str(Y_train.shape))\n",
    "print (\"X_test shape: \" + str(X_test.shape))\n",
    "print (\"Y_test shape: \" + str(Y_test.shape))\n",
    "conv_layers = {}"
   ]
  },
  {
   "cell_type": "markdown",
   "metadata": {},
   "source": [
    "#### Create the placeholder for input and ouput"
   ]
  },
  {
   "cell_type": "code",
   "execution_count": 7,
   "metadata": {},
   "outputs": [],
   "source": [
    "tf.reset_default_graph()\n",
    "\n",
    "X = tf.placeholder(dtype = tf.float32, shape = [None, 64, 64, 3], name = 'Input')\n",
    "Y = tf.placeholder(dtype = tf.float32, shape = [None, 6], name = 'output')"
   ]
  },
  {
   "cell_type": "markdown",
   "metadata": {},
   "source": [
    "#### initialize the parameters"
   ]
  },
  {
   "cell_type": "code",
   "execution_count": 8,
   "metadata": {},
   "outputs": [],
   "source": [
    "tf.set_random_seed(1)\n",
    "\n",
    "W1 = tf.get_variable('W1', [4,4,3,8], initializer = tf.contrib.layers.xavier_initializer(seed = 0))\n",
    "W2 = tf.get_variable('W2', [2,2,8,16], initializer = tf.contrib.layers.xavier_initializer(seed = 0))"
   ]
  },
  {
   "cell_type": "code",
   "execution_count": 9,
   "metadata": {},
   "outputs": [
    {
     "name": "stdout",
     "output_type": "stream",
     "text": [
      "[ 0.00131723  0.14176141 -0.04434952  0.09197326  0.14984085 -0.03514394\n",
      " -0.06847463  0.05245192]\n",
      "[-0.08566415  0.17750949  0.11974221  0.16773748 -0.0830943  -0.08058\n",
      " -0.00577033 -0.14643836  0.24162132 -0.05857408 -0.19055021  0.1345228\n",
      " -0.22779644 -0.1601823  -0.16117483 -0.10286498]\n"
     ]
    }
   ],
   "source": [
    "with tf.Session() as sess_test:\n",
    "    init = tf.global_variables_initializer()\n",
    "    sess_test.run(init)\n",
    "    print(W1.eval()[1,1,1])\n",
    "    print(W2.eval()[1,1,1])"
   ]
  },
  {
   "cell_type": "markdown",
   "metadata": {},
   "source": [
    "#### Forward Propagation "
   ]
  },
  {
   "cell_type": "code",
   "execution_count": 10,
   "metadata": {},
   "outputs": [],
   "source": [
    "Z1 = tf.nn.conv2d(X, W1, strides = [1,1,1,1], padding = 'SAME')\n",
    "A1 = tf.nn.relu(Z1)\n",
    "\n",
    "P1 = tf.nn.max_pool(A1, [1, 8, 8, 1], strides = [1, 8, 8, 1], padding = 'SAME')\n",
    "\n",
    "Z2 = tf.nn.conv2d(P1, W2, strides = [1,1,1,1], padding = 'SAME')\n",
    "A2 = tf.nn.relu(Z2)\n",
    "\n",
    "P2 = tf.nn.max_pool(A2, [1,4,4,1], strides = [1, 4, 4,1], padding = 'SAME')\n",
    "\n",
    "P2 = tf.contrib.layers.flatten(P2)\n",
    "\n",
    "Z3 = tf.contrib.layers.fully_connected(P2,6,activation_fn=None)"
   ]
  },
  {
   "cell_type": "code",
   "execution_count": 11,
   "metadata": {},
   "outputs": [
    {
     "name": "stdout",
     "output_type": "stream",
     "text": [
      "Z3 = [[-0.88846898 -0.9910444   0.58322519  0.97438097  0.19372585  0.26202348]\n",
      " [-0.81386209 -0.51948285  0.58545381  0.84616631  0.20233722  0.33494329]]\n"
     ]
    }
   ],
   "source": [
    "with tf.Session() as sess:\n",
    "    np.random.seed(1)\n",
    "    init = tf.global_variables_initializer()\n",
    "    sess.run(init)\n",
    "    a = sess.run(Z3, {X: np.random.randn(2,64,64,3), Y: np.random.randn(2,6)})\n",
    "    print(\"Z3 = \" + str(a))"
   ]
  },
  {
   "cell_type": "code",
   "execution_count": 12,
   "metadata": {},
   "outputs": [],
   "source": [
    "cost = tf.reduce_mean(tf.nn.softmax_cross_entropy_with_logits(logits = Z3, labels = Y))\n",
    "\n",
    "optimizer = tf.train.AdamOptimizer(learning_rate = 0.003).minimize(cost)\n",
    "\n",
    "init = tf.global_variables_initializer()\n"
   ]
  },
  {
   "cell_type": "code",
   "execution_count": 13,
   "metadata": {},
   "outputs": [],
   "source": [
    "batch_size = 64\n",
    "batch_iteration = 16\n",
    "\n",
    "epoch = 150\n",
    "iteration_cost = []"
   ]
  },
  {
   "cell_type": "code",
   "execution_count": 14,
   "metadata": {},
   "outputs": [
    {
     "name": "stdout",
     "output_type": "stream",
     "text": [
      "cost after 0 iteration is [1.789681]\n",
      "cost after 5 iteration is [1.6802635]\n",
      "cost after 10 iteration is [1.3094555]\n",
      "cost after 15 iteration is [1.0021534]\n",
      "cost after 20 iteration is [0.80656874]\n",
      "cost after 25 iteration is [0.68651825]\n",
      "cost after 30 iteration is [0.59313911]\n",
      "cost after 35 iteration is [0.51598978]\n",
      "cost after 40 iteration is [0.47636899]\n",
      "cost after 45 iteration is [0.42287266]\n",
      "cost after 50 iteration is [0.37412602]\n",
      "cost after 55 iteration is [0.34671193]\n",
      "cost after 60 iteration is [0.30666465]\n",
      "cost after 65 iteration is [0.27972808]\n",
      "cost after 70 iteration is [0.30041668]\n",
      "cost after 75 iteration is [0.26337993]\n",
      "cost after 80 iteration is [0.22959228]\n",
      "cost after 85 iteration is [0.21623982]\n",
      "cost after 90 iteration is [0.2034985]\n",
      "cost after 95 iteration is [0.19170178]\n",
      "cost after 100 iteration is [0.18077347]\n",
      "cost after 105 iteration is [0.17211731]\n",
      "cost after 110 iteration is [0.16468686]\n",
      "cost after 115 iteration is [0.16328557]\n",
      "cost after 120 iteration is [0.15152489]\n",
      "cost after 125 iteration is [0.14430539]\n",
      "cost after 130 iteration is [0.13957864]\n",
      "cost after 135 iteration is [0.13231565]\n",
      "cost after 140 iteration is [0.13110736]\n",
      "cost after 145 iteration is [0.12895271]\n",
      "Train Accuracy: 0.967593\n",
      "Test Accuracy: 0.858333\n"
     ]
    }
   ],
   "source": [
    "with tf.Session() as sess:\n",
    "    sess.run(init)\n",
    "    \n",
    "    for i in range(epoch):\n",
    "        \n",
    "        for j in range(batch_iteration):\n",
    "            sess.run([optimizer], {X:X_train[j*batch_size:(j+1)*batch_size,:,:,:], Y:Y_train[j*batch_size:(j+1)*batch_size,:]})\n",
    "            \n",
    "        sess.run([optimizer], {X:X_train[1024:,:,:,:], Y:Y_train[1024:,:]})\n",
    "        \n",
    "        \n",
    "        if i % 5 == 0 :       \n",
    "            l = sess.run([cost], {X:X_train , Y: Y_train})\n",
    "            iteration_cost.append(l)\n",
    "            print(\"cost after \" + str(i) + \" iteration is \" + str(l))\n",
    "           \n",
    "    #calculate correct prediction\n",
    "    predict_op = tf.argmax(Z3,1)\n",
    "    correct = tf.equal(predict_op, tf.argmax(Y,1))\n",
    "    \n",
    "    #calculate accuracy \n",
    "    accuracy = tf.reduce_mean(tf.cast(correct, \"float\"))\n",
    "    \n",
    "    train_accuracy = accuracy.eval({X: X_train, Y: Y_train})\n",
    "    test_accuracy = accuracy.eval({X: X_test, Y: Y_test})\n",
    "    print(\"Train Accuracy:\", train_accuracy)\n",
    "    print(\"Test Accuracy:\", test_accuracy)\n",
    "    \n",
    "    w_1 = W1.eval()\n",
    "    w_2 = W2.eval()"
   ]
  },
  {
   "cell_type": "code",
   "execution_count": 15,
   "metadata": {},
   "outputs": [
    {
     "data": {
      "text/plain": [
       "[<matplotlib.lines.Line2D at 0x7f37a37004a8>]"
      ]
     },
     "execution_count": 15,
     "metadata": {},
     "output_type": "execute_result"
    },
    {
     "data": {
      "image/png": "[encoded data removed]",
      "text/plain": [
       "<matplotlib.figure.Figure at 0x7f37a3714eb8>"
      ]
     },
     "metadata": {},
     "output_type": "display_data"
    }
   ],
   "source": [
    "plt.plot(iteration_cost,'r*')"
   ]
  },
  {
   "cell_type": "markdown",
   "metadata": {},
   "source": [
    "### Comment"
   ]
  },
  {
   "cell_type": "markdown",
   "metadata": {},
   "source": [
    "#### Training accuracy is 96% , While testing accuracy is 85%. Due to high varience, training model fails to generalize. Regularization or dropout will help to decrease the high varience."
   ]
  },
  {
   "cell_type": "code",
   "execution_count": 31,
   "metadata": {},
   "outputs": [],
   "source": [
    "tf.reset_default_graph()\n",
    "\n",
    "X_ = tf.placeholder(dtype = tf.float32, shape = [None,64, 64, 3], name = 'Input')\n",
    "Y_ = tf.placeholder(dtype = tf.float32, shape = [None, 6], name = 'output')\n",
    "\n",
    "W_1 = tf.Variable(w_1, dtype = tf.float32,name = 'conv_layer_1')\n",
    "W_2 = tf.Variable(w_2, dtype = tf.float32,name =  'conv_layer_2')"
   ]
  },
  {
   "cell_type": "code",
   "execution_count": 35,
   "metadata": {},
   "outputs": [],
   "source": [
    "Z_1 = tf.nn.conv2d(X_, W_1, strides = [1,1,1,1], padding = 'SAME')\n",
    "A_1 = tf.nn.relu(Z_1)\n",
    "\n",
    "P_1 = tf.nn.max_pool(A_1, [1, 8, 8, 1], strides = [1, 8, 8, 1], padding = 'SAME')\n",
    "\n",
    "Z_2 = tf.nn.conv2d(P_1, W_2, strides = [1,1,1,1], padding = 'SAME')\n",
    "A_2 = tf.nn.relu(Z_2)\n",
    "\n",
    "P_2 = tf.nn.max_pool(A_2, [1,4,4,1], strides = [1, 4, 4,1], padding = 'SAME')\n"
   ]
  },
  {
   "cell_type": "code",
   "execution_count": 36,
   "metadata": {},
   "outputs": [],
   "source": [
    "init = tf.global_variables_initializer()"
   ]
  },
  {
   "cell_type": "code",
   "execution_count": 37,
   "metadata": {},
   "outputs": [],
   "source": [
    "with tf.Session() as sess:\n",
    "    sess.run(init)\n",
    "    first_conv = sess.run([Z_1], {X_:X_train[3:8,:,:,:]})\n",
    "    first_pool = sess.run([P_1], {X_:X_train[3:8,:,:,:]})\n",
    "    \n",
    "    second_conv = sess.run([Z_2], {X_:X_train[3:8,:,:,:]})\n",
    "    second_pool = sess.run([P_2], {X_:X_train[3:8,:,:,:]})\n",
    "    "
   ]
  },
  {
   "cell_type": "code",
   "execution_count": 96,
   "metadata": {},
   "outputs": [],
   "source": [
    "f_conv = np.array(first_conv)\n",
    "f_pool = np.array(first_pool)\n",
    "\n",
    "s_conv = np.array(second_conv)\n",
    "s_pool = np.array(second_pool)\n",
    "\n",
    "f_conv = f_conv.reshape([5,64,64,8])\n",
    "f_pool = f_pool.reshape([5,8,8,8])\n",
    "\n",
    "s_conv = s_conv.reshape([5,8,8,16])\n",
    "s_pool = s_pool.reshape([5,2,2,16])"
   ]
  },
  {
   "cell_type": "code",
   "execution_count": 52,
   "metadata": {},
   "outputs": [
    {
     "data": {
      "text/plain": [
       "<matplotlib.image.AxesImage at 0x7f37a28b9e48>"
      ]
     },
     "execution_count": 52,
     "metadata": {},
     "output_type": "execute_result"
    },
    {
     "data": {
      "image/png": "[encoded data removed]",
      "text/plain": [
       "<matplotlib.figure.Figure at 0x7f37a2947208>"
      ]
     },
     "metadata": {},
     "output_type": "display_data"
    }
   ],
   "source": [
    "plt.imshow(f_conv[0,:,:,4],cmap='gray')"
   ]
  },
  {
   "cell_type": "code",
   "execution_count": 53,
   "metadata": {},
   "outputs": [
    {
     "data": {
      "text/plain": [
       "<matplotlib.image.AxesImage at 0x7f37a281e2b0>"
      ]
     },
     "execution_count": 53,
     "metadata": {},
     "output_type": "execute_result"
    },
    {
     "data": {
      "image/png": "[encoded data removed]",
      "text/plain": [
       "<matplotlib.figure.Figure at 0x7f37a28b05f8>"
      ]
     },
     "metadata": {},
     "output_type": "display_data"
    }
   ],
   "source": [
    "plt.imshow(f_conv[3,:,:,4],cmap='gray')"
   ]
  },
  {
   "cell_type": "code",
   "execution_count": 124,
   "metadata": {},
   "outputs": [
    {
     "data": {
      "text/plain": [
       "<matplotlib.image.AxesImage at 0x7f37a173b0b8>"
      ]
     },
     "execution_count": 124,
     "metadata": {},
     "output_type": "execute_result"
    },
    {
     "data": {
      "image/png": "[encoded data removed]",
      "text/plain": [
       "<matplotlib.figure.Figure at 0x7f37a17c6400>"
      ]
     },
     "metadata": {},
     "output_type": "display_data"
    }
   ],
   "source": [
    "plt.imshow(f_conv[1,:,:,1],cmap='gray')"
   ]
  },
  {
   "cell_type": "code",
   "execution_count": 121,
   "metadata": {},
   "outputs": [
    {
     "data": {
      "text/plain": [
       "<matplotlib.image.AxesImage at 0x7f37a1814ba8>"
      ]
     },
     "execution_count": 121,
     "metadata": {},
     "output_type": "execute_result"
    },
    {
     "data": {
      "image/png": "[encoded data removed]",
      "text/plain": [
       "<matplotlib.figure.Figure at 0x7f37a185c6a0>"
      ]
     },
     "metadata": {},
     "output_type": "display_data"
    }
   ],
   "source": [
    "plt.imshow(f_pool[1,:,:,1], cmap = 'gray')"
   ]
  },
  {
   "cell_type": "code",
   "execution_count": 148,
   "metadata": {},
   "outputs": [
    {
     "data": {
      "text/plain": [
       "<matplotlib.image.AxesImage at 0x7f37a0e5dc50>"
      ]
     },
     "execution_count": 148,
     "metadata": {},
     "output_type": "execute_result"
    },
    {
     "data": {
      "image/png": "[encoded data removed]",
      "text/plain": [
       "<matplotlib.figure.Figure at 0x7f37a0ea57b8>"
      ]
     },
     "metadata": {},
     "output_type": "display_data"
    }
   ],
   "source": [
    "plt.imshow(s_conv[0,:,:,1], cmap = 'gray')"
   ]
  },
  {
   "cell_type": "code",
   "execution_count": 149,
   "metadata": {},
   "outputs": [
    {
     "data": {
      "text/plain": [
       "<matplotlib.image.AxesImage at 0x7f37a0e41518>"
      ]
     },
     "execution_count": 149,
     "metadata": {},
     "output_type": "execute_result"
    },
    {
     "data": {
      "image/png": "[encoded data removed]",
      "text/plain": [
       "<matplotlib.figure.Figure at 0x7f37a0e790f0>"
      ]
     },
     "metadata": {},
     "output_type": "display_data"
    }
   ],
   "source": [
    "plt.imshow(s_pool[0,:,:,1], cmap = 'gray')"
   ]
  },
  {
   "cell_type": "code",
   "execution_count": null,
   "metadata": {},
   "outputs": [],
   "source": []
  }
 ],
 "metadata": {
  "kernelspec": {
   "display_name": "Python 3",
   "language": "python",
   "name": "python3"
  },
  "language_info": {
   "codemirror_mode": {
    "name": "ipython",
    "version": 3
   },
   "file_extension": ".py",
   "mimetype": "text/x-python",
   "name": "python",
   "nbconvert_exporter": "python",
   "pygments_lexer": "ipython3",
   "version": "3.6.3"
  }
 },
 "nbformat": 4,
 "nbformat_minor": 2
}
