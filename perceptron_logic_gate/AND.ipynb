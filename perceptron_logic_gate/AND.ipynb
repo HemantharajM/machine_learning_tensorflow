{
 "cells": [
  {
   "cell_type": "markdown",
   "metadata": {},
   "source": [
    "### AND logic gate implementing in  perceptron.\n"
   ]
  },
  {
   "cell_type": "markdown",
   "metadata": {},
   "source": [
    "#### import the package and import the data"
   ]
  },
  {
   "cell_type": "code",
   "execution_count": 129,
   "metadata": {
    "collapsed": true
   },
   "outputs": [],
   "source": [
    "import numpy as np\n",
    "import matplotlib.pyplot as plt\n",
    "import tensorflow as tf\n",
    "\n",
    "x_data = [[0.0, 0.0, 1.0, 1.0],[0.0 ,1.0 ,0.0, 1.0]]\n",
    "y_data = [[1.0, 0.0, 0.0, 0.0]]\n",
    "\n",
    "tf.reset_default_graph()"
   ]
  },
  {
   "cell_type": "markdown",
   "metadata": {},
   "source": [
    "#### create the placeholder for inputs and label , Build the model "
   ]
  },
  {
   "cell_type": "code",
   "execution_count": 130,
   "metadata": {
    "collapsed": true
   },
   "outputs": [],
   "source": [
    "X = tf.placeholder('float', None, name = 'Input')\n",
    "Y_desired = tf.placeholder('float', None, name = 'desired_output')\n",
    "\n",
    "W = tf.Variable(tf.random_uniform([1,2], maxval=1),'float', name = 'weight' )\n",
    "b = tf.Variable(tf.random_uniform([1,1], maxval=1) , 'float', name = 'bias')\n",
    "\n",
    "#model of perceptron\n",
    "Y_predict = tf.sigmoid(tf.matmul(W, X) + b, name = 'Y_predict')"
   ]
  },
  {
   "cell_type": "markdown",
   "metadata": {},
   "source": [
    "#### specify the cost function and derivative of W and b"
   ]
  },
  {
   "cell_type": "code",
   "execution_count": 131,
   "metadata": {},
   "outputs": [],
   "source": [
    "learning_rate = tf.constant(1.0,name = 'learning_rate')\n",
    "iteration_cost = [];\n",
    "\n",
    "cost =tf.reduce_sum(Y_desired * tf.log(Y_predict) + (1 - Y_desired) * tf.log(1 - Y_predict)) * (-1)\n",
    "\n",
    "error = tf.subtract(Y_desired, Y_predict, name = 'error')\n",
    "individual_dw = tf.multiply(error, x_data)\n",
    "\n",
    "del_w = tf.reduce_sum(individual_dw * learning_rate, 1,keep_dims=True, name = 'gradientw')\n",
    "del_b = tf.reduce_sum(error * learning_rate,keep_dims=True, name = 'gradientb')\n",
    "\n",
    "assign_W_op = W.assign_add(tf.transpose(del_w))\n",
    "assign_b_op = b.assign_add(del_b)\n"
   ]
  },
  {
   "cell_type": "markdown",
   "metadata": {},
   "source": [
    "#### Train our model"
   ]
  },
  {
   "cell_type": "code",
   "execution_count": 132,
   "metadata": {},
   "outputs": [
    {
     "name": "stdout",
     "output_type": "stream",
     "text": [
      "[[  9.91645038e-01   3.34996660e-03   3.34992819e-03   9.51867420e-08]]\n"
     ]
    }
   ],
   "source": [
    "with tf.Session() as sess:\n",
    "    sess.run(W.initializer)\n",
    "    sess.run(b.initializer)\n",
    "    writer = tf.summary.FileWriter(\"./graphs\", sess.graph)\n",
    "    for i in range(600):\n",
    "        sess.run(assign_W_op, {X:x_data, Y_desired:y_data })\n",
    "        sess.run(assign_b_op, {X:x_data, Y_desired:y_data})\n",
    "        iteration_cost.append(sess.run(cost, {X:x_data, Y_desired:y_data}))\n",
    "    w_test = W.eval()\n",
    "    b_test = b.eval()\n",
    "    print(sess.run(Y_predict, {X:x_data, Y_desired:y_data}))"
   ]
  },
  {
   "cell_type": "code",
   "execution_count": 119,
   "metadata": {},
   "outputs": [
    {
     "ename": "SyntaxError",
     "evalue": "invalid syntax (<ipython-input-119-d5eba2107cac>, line 2)",
     "output_type": "error",
     "traceback": [
      "\u001b[0;36m  File \u001b[0;32m\"<ipython-input-119-d5eba2107cac>\"\u001b[0;36m, line \u001b[0;32m2\u001b[0m\n\u001b[0;31m    tensorboard --logdir=\"./graphs\" --port 6006\u001b[0m\n\u001b[0m                                              ^\u001b[0m\n\u001b[0;31mSyntaxError\u001b[0m\u001b[0;31m:\u001b[0m invalid syntax\n"
     ]
    }
   ],
   "source": [
    "!bash\n",
    "tensorboard --logdir=\"./graphs\" --port 6006"
   ]
  },
  {
   "cell_type": "markdown",
   "metadata": {},
   "source": [
    "#### plot the cost value over the iteration"
   ]
  },
  {
   "cell_type": "code",
   "execution_count": 133,
   "metadata": {},
   "outputs": [
    {
     "name": "stdout",
     "output_type": "stream",
     "text": [
      "[[-10.47197533 -10.47196388]] [[ 4.77651453]]\n"
     ]
    },
    {
     "data": {
      "image/png": "[encoded data removed]",
      "text/plain": [
       "<matplotlib.figure.Figure at 0x7f82ec2f4860>"
      ]
     },
     "metadata": {},
     "output_type": "display_data"
    }
   ],
   "source": [
    "\n",
    "plt.plot(iteration_cost)\n",
    "print(w_test,b_test)\n",
    "plt.show()"
   ]
  },
  {
   "cell_type": "markdown",
   "metadata": {},
   "source": [
    "#### Test our model and print accuracy "
   ]
  },
  {
   "cell_type": "code",
   "execution_count": 134,
   "metadata": {
    "collapsed": true
   },
   "outputs": [],
   "source": [
    "def sigmoid(x):\n",
    "    return 1 / (1 + np.exp(-x))"
   ]
  },
  {
   "cell_type": "code",
   "execution_count": 135,
   "metadata": {},
   "outputs": [
    {
     "name": "stdout",
     "output_type": "stream",
     "text": [
      "[ 1.] [[ 0.17228203]]\n",
      "[ 0.] [[  8.52562129e-05]]\n",
      "[ 0.] [[ 0.00011777]]\n",
      "[ 0.] [[  2.55894247e-05]]\n",
      "[ 1.] [[ 0.03896671]]\n",
      "[ 0.] [[ 0.17927545]]\n",
      "[ 0.] [[ 0.00079509]]\n",
      "[ 0.] [[  2.81363128e-07]]\n",
      "[ 1.] [[ 0.98726113]]\n",
      "[ 0.] [[ 0.00515584]]\n",
      "[ 0.] [[ 0.00676706]]\n",
      "[ 0.] [[  3.13953252e-07]]\n",
      "[ 1.] [[ 0.99993382]]\n",
      "[ 0.] [[ 0.40233702]]\n",
      "[ 0.] [[ 0.02420673]]\n",
      "[ 0.] [[  1.19399534e-06]]\n",
      "[ 1.] [[ 0.98811558]]\n",
      "[ 0.] [[ 0.00480032]]\n",
      "[ 0.] [[ 0.00087354]]\n",
      "[ 0.] [[  7.20948105e-08]]\n",
      "0.9\n"
     ]
    }
   ],
   "source": [
    "test_count = 5\n",
    "x_da = np.transpose(x_data)\n",
    "y_da = np.transpose(y_data)\n",
    "w_da = np.transpose(w_test)\n",
    "b_da = b_test\n",
    "\n",
    "total_data = 0\n",
    "correct_data = 0\n",
    "for i in range(test_count):\n",
    "    count = 0;\n",
    "    for x in x_da:\n",
    "        x = x + np.random.uniform(-0.5,0.5 ,[1,2])\n",
    "        y = np.matmul(x,w_da) + b_da\n",
    "        y = sigmoid(y)\n",
    "        if (abs(y_da[count]- y) < 0.5):\n",
    "            correct_data = correct_data + 1\n",
    "        print(y_da[count], y)\n",
    "        count = count +1\n",
    "        total_data = total_data + 1\n",
    "\n",
    "print(correct_data / total_data)    "
   ]
  },
  {
   "cell_type": "markdown",
   "metadata": {},
   "source": [
    "#### Decision boundary"
   ]
  },
  {
   "cell_type": "code",
   "execution_count": 136,
   "metadata": {},
   "outputs": [],
   "source": [
    "x2 = []\n",
    "for x1 in np.linspace(0,1.5,20):\n",
    "    temp = -b_da - w_da[1] * x1\n",
    "    temp = temp / w_da[0]\n",
    "    x2.append(temp)\n",
    "   \n",
    "        "
   ]
  },
  {
   "cell_type": "code",
   "execution_count": 137,
   "metadata": {},
   "outputs": [
    {
     "data": {
      "image/png": "[encoded data removed]",
      "text/plain": [
       "<matplotlib.figure.Figure at 0x7f82ec2734e0>"
      ]
     },
     "metadata": {},
     "output_type": "display_data"
    }
   ],
   "source": [
    "x1  = np.linspace(0,1.5,20)\n",
    "x2 = [float(d) for d in x2]\n",
    "plt.plot(x1, x2)\n",
    "plt.show()\n"
   ]
  },
  {
   "cell_type": "code",
   "execution_count": null,
   "metadata": {
    "collapsed": true
   },
   "outputs": [],
   "source": []
  }
 ],
 "metadata": {
  "kernelspec": {
   "display_name": "Python 3",
   "language": "python",
   "name": "python3"
  },
  "language_info": {
   "codemirror_mode": {
    "name": "ipython",
    "version": 3
   },
   "file_extension": ".py",
   "mimetype": "text/x-python",
   "name": "python",
   "nbconvert_exporter": "python",
   "pygments_lexer": "ipython3",
   "version": "3.6.3"
  }
 },
 "nbformat": 4,
 "nbformat_minor": 2
}
