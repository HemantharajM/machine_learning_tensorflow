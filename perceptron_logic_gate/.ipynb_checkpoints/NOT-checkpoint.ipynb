{
 "cells": [
  {
   "cell_type": "markdown",
   "metadata": {},
   "source": [
    "### NOT logic gate implementing in  perceptron."
   ]
  },
  {
   "cell_type": "markdown",
   "metadata": {},
   "source": [
    "#### import the package and import the data"
   ]
  },
  {
   "cell_type": "code",
   "execution_count": 2,
   "metadata": {
    "collapsed": true
   },
   "outputs": [],
   "source": [
    "import numpy as np\n",
    "import matplotlib.pyplot as plt\n",
    "import tensorflow as tf\n",
    "\n",
    "x_data = [[0.0, 1.0]]\n",
    "y_data = [[1.0, 0.0]]\n",
    "\n",
    "tf.reset_default_graph()"
   ]
  },
  {
   "cell_type": "markdown",
   "metadata": {},
   "source": [
    "#### create the placeholder for inputs and label , Build the model "
   ]
  },
  {
   "cell_type": "code",
   "execution_count": 3,
   "metadata": {
    "collapsed": true
   },
   "outputs": [],
   "source": [
    "X = tf.placeholder('float', None, name = 'Input')\n",
    "Y_desired = tf.placeholder('float', None, name = 'desired_output')\n",
    "\n",
    "W = tf.Variable(tf.random_uniform([1,1], maxval=1),'float', name = 'weight' )\n",
    "b = tf.Variable(tf.random_uniform([1,1], maxval=1) , 'float', name = 'bias')\n",
    "\n",
    "#model of perceptron\n",
    "Y_predict = tf.sigmoid(tf.matmul(W, X) + b, name = 'Y_predict')"
   ]
  },
  {
   "cell_type": "markdown",
   "metadata": {},
   "source": [
    "#### specify the cost function and derivative of W and b"
   ]
  },
  {
   "cell_type": "code",
   "execution_count": 4,
   "metadata": {
    "collapsed": true
   },
   "outputs": [],
   "source": [
    "learning_rate = tf.constant(1.0,name = 'learning_rate')\n",
    "iteration_cost = [];\n",
    "\n",
    "cost =tf.reduce_sum(Y_desired * tf.log(Y_predict) + (1 - Y_desired) * tf.log(1 - Y_predict)) * (-1)\n",
    "\n",
    "error = tf.subtract(Y_desired, Y_predict, name = 'error')\n",
    "individual_dw = tf.multiply(error, x_data)\n",
    "\n",
    "del_w = tf.reduce_sum(individual_dw * learning_rate, 1,keep_dims=True, name = 'gradientw')\n",
    "del_b = tf.reduce_sum(error * learning_rate,keep_dims=True, name = 'gradientb')\n",
    "\n",
    "assign_W_op = W.assign_add(tf.transpose(del_w))\n",
    "assign_b_op = b.assign_add(del_b)\n"
   ]
  },
  {
   "cell_type": "markdown",
   "metadata": {},
   "source": [
    "#### Train our model"
   ]
  },
  {
   "cell_type": "code",
   "execution_count": 5,
   "metadata": {},
   "outputs": [
    {
     "name": "stdout",
     "output_type": "stream",
     "text": [
      "[[ 0.99498475  0.00335133]]\n"
     ]
    }
   ],
   "source": [
    "with tf.Session() as sess:\n",
    "    sess.run(W.initializer)\n",
    "    sess.run(b.initializer)\n",
    "    writer = tf.summary.FileWriter(\"./graphs\", sess.graph)\n",
    "    for i in range(600):\n",
    "        sess.run(assign_W_op, {X:x_data, Y_desired:y_data })\n",
    "        sess.run(assign_b_op, {X:x_data, Y_desired:y_data})\n",
    "        iteration_cost.append(sess.run(cost, {X:x_data, Y_desired:y_data}))\n",
    "    w_test = W.eval()\n",
    "    b_test = b.eval()\n",
    "    print(sess.run(Y_predict, {X:x_data, Y_desired:y_data}))"
   ]
  },
  {
   "cell_type": "code",
   "execution_count": 119,
   "metadata": {},
   "outputs": [
    {
     "ename": "SyntaxError",
     "evalue": "invalid syntax (<ipython-input-119-d5eba2107cac>, line 2)",
     "output_type": "error",
     "traceback": [
      "\u001b[0;36m  File \u001b[0;32m\"<ipython-input-119-d5eba2107cac>\"\u001b[0;36m, line \u001b[0;32m2\u001b[0m\n\u001b[0;31m    tensorboard --logdir=\"./graphs\" --port 6006\u001b[0m\n\u001b[0m                                              ^\u001b[0m\n\u001b[0;31mSyntaxError\u001b[0m\u001b[0;31m:\u001b[0m invalid syntax\n"
     ]
    }
   ],
   "source": [
    "!bash\n",
    "tensorboard --logdir=\"./graphs\" --port 6006"
   ]
  },
  {
   "cell_type": "markdown",
   "metadata": {},
   "source": [
    "#### plot the cost value over the iteration"
   ]
  },
  {
   "cell_type": "code",
   "execution_count": 6,
   "metadata": {},
   "outputs": [
    {
     "name": "stdout",
     "output_type": "stream",
     "text": [
      "[[-10.98527908]] [[ 5.29023838]]\n"
     ]
    },
    {
     "data": {
      "image/png": "[encoded data removed]",
      "text/plain": [
       "<matplotlib.figure.Figure at 0x7f30c46ce780>"
      ]
     },
     "metadata": {},
     "output_type": "display_data"
    }
   ],
   "source": [
    "\n",
    "plt.plot(iteration_cost)\n",
    "print(w_test,b_test)\n",
    "plt.show()"
   ]
  },
  {
   "cell_type": "markdown",
   "metadata": {},
   "source": [
    "#### Test our model and print accuracy "
   ]
  },
  {
   "cell_type": "code",
   "execution_count": 7,
   "metadata": {
    "collapsed": true
   },
   "outputs": [],
   "source": [
    "def sigmoid(x):\n",
    "    return 1 / (1 + np.exp(-x))"
   ]
  },
  {
   "cell_type": "code",
   "execution_count": 9,
   "metadata": {},
   "outputs": [
    {
     "name": "stdout",
     "output_type": "stream",
     "text": [
      "[ 1.] [[ 0.72703207]]\n",
      "[ 0.] [[ 0.00074161]]\n",
      "[ 1.] [[ 0.9998997]]\n",
      "[ 0.] [[ 0.07470202]]\n",
      "[ 1.] [[ 0.98945891]]\n",
      "[ 0.] [[ 0.05429355]]\n",
      "[ 1.] [[ 0.97761049]]\n",
      "[ 0.] [[ 0.04233414]]\n",
      "[ 1.] [[ 0.99990588]]\n",
      "[ 0.] [[ 0.05053382]]\n",
      "1.0\n"
     ]
    }
   ],
   "source": [
    "test_count = 5\n",
    "x_da = np.transpose(x_data)\n",
    "y_da = np.transpose(y_data)\n",
    "w_da = np.transpose(w_test)\n",
    "b_da = b_test\n",
    "\n",
    "total_data = 0\n",
    "correct_data = 0\n",
    "for i in range(test_count):\n",
    "    count = 0;\n",
    "    for x in x_da:\n",
    "        x = x + np.random.uniform(-0.5,0.5 ,[1,1])\n",
    "        y = np.matmul(x,w_da) + b_da\n",
    "        y = sigmoid(y)\n",
    "        if (abs(y_da[count]- y) < 0.5):\n",
    "            correct_data = correct_data + 1\n",
    "        print(y_da[count], y)\n",
    "        count = count +1\n",
    "        total_data = total_data + 1\n",
    "\n",
    "print(correct_data / total_data)    "
   ]
  },
  {
   "cell_type": "markdown",
   "metadata": {},
   "source": [
    "#### Decision boundary"
   ]
  },
  {
   "cell_type": "code",
   "execution_count": 12,
   "metadata": {},
   "outputs": [
    {
     "data": {
      "text/plain": [
       "array([[ 0.48157525]], dtype=float32)"
      ]
     },
     "execution_count": 12,
     "metadata": {},
     "output_type": "execute_result"
    }
   ],
   "source": [
    "boundary = - b_da / w_da\n",
    "boundary"
   ]
  },
  {
   "cell_type": "code",
   "execution_count": 14,
   "metadata": {},
   "outputs": [
    {
     "data": {
      "text/plain": [
       "array([[ 5.29023838]])"
      ]
     },
     "execution_count": 14,
     "metadata": {},
     "output_type": "execute_result"
    }
   ],
   "source": [
    "x = [[0]]\n",
    "y = w_da[0] * x[0]  + b_da\n",
    "y"
   ]
  },
  {
   "cell_type": "code",
   "execution_count": null,
   "metadata": {
    "collapsed": true
   },
   "outputs": [],
   "source": []
  }
 ],
 "metadata": {
  "kernelspec": {
   "display_name": "Python 3",
   "language": "python",
   "name": "python3"
  },
  "language_info": {
   "codemirror_mode": {
    "name": "ipython",
    "version": 3
   },
   "file_extension": ".py",
   "mimetype": "text/x-python",
   "name": "python",
   "nbconvert_exporter": "python",
   "pygments_lexer": "ipython3",
   "version": "3.6.3"
  }
 },
 "nbformat": 4,
 "nbformat_minor": 2
}
