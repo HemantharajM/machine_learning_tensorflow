{
 "cells": [
  {
   "cell_type": "markdown",
   "metadata": {},
   "source": [
    "### XOR logic gate implementation using tensorflow "
   ]
  },
  {
   "cell_type": "markdown",
   "metadata": {},
   "source": [
    "#### import the package and the data"
   ]
  },
  {
   "cell_type": "code",
   "execution_count": 21,
   "metadata": {
    "collapsed": true
   },
   "outputs": [],
   "source": [
    "import numpy as np\n",
    "import tensorflow as tf\n",
    "import matplotlib.pyplot as plt\n",
    "\n",
    "X_data = [[0.0, 0.0, 1.0, 1.0], [0.0, 1.0, 0.0, 1.0]]\n",
    "Y_data = [[0.0, 1.0, 1.0, 0.0]]\n",
    "\n",
    "tf.reset_default_graph()"
   ]
  },
  {
   "cell_type": "markdown",
   "metadata": {},
   "source": [
    "#### create a placeholder for input , output and weight"
   ]
  },
  {
   "cell_type": "code",
   "execution_count": 22,
   "metadata": {
    "collapsed": true
   },
   "outputs": [],
   "source": [
    "X = tf.placeholder('float', shape = [2 ,4], name = 'INPUT') \n",
    "Y = tf.placeholder('float', shape = [1,4], name = 'OUTPUT')\n",
    "\n",
    "W1 = tf.Variable(tf.random_uniform([3,2], maxval=1) ,'float', name = 'weight_1_to_2' )\n",
    "b1 = tf.Variable(tf.random_uniform([3,1], maxval=1), 'float', name = 'bias_1_to_2')\n",
    "\n",
    "W2 = tf.Variable(tf.random_uniform([1,3], maxval=1), 'float', name = 'weight_2_to_3')\n",
    "b2 = tf.Variable(tf.random_uniform([1,1], maxval=1), 'float', name = 'bias_2_to_3')"
   ]
  },
  {
   "cell_type": "markdown",
   "metadata": {},
   "source": [
    "#### For fast convergence use"
   ]
  },
  {
   "cell_type": "code",
   "execution_count": 23,
   "metadata": {
    "collapsed": true
   },
   "outputs": [],
   "source": [
    "W1_velocity = tf.Variable(tf.zeros([3,2]), 'float')\n",
    "b1_velocity = tf.Variable(tf.zeros([3,1]), 'float')\n",
    "                          \n",
    "W2_velocity = tf.Variable(tf.zeros([1,3]), 'float')\n",
    "b2_velocity = tf.Variable(tf.zeros([1,1]), 'float')\n",
    "                          \n",
    "momentum = 0.9"
   ]
  },
  {
   "cell_type": "markdown",
   "metadata": {},
   "source": [
    "#### Forward propagation and backward propagation"
   ]
  },
  {
   "cell_type": "code",
   "execution_count": 24,
   "metadata": {
    "collapsed": true
   },
   "outputs": [],
   "source": [
    "a1 = X\n",
    "\n",
    "z2 = tf.matmul(W1,a1) + b1\n",
    "a2 = tf.sigmoid(z2, name = 'Hidden_layer')\n",
    "\n",
    "z3 = tf.matmul(W2,a2) + b2\n",
    "a3 = tf.sigmoid(z3, name = 'Predicted_output')\n",
    "\n",
    "dz3 = tf.subtract(a3, Y) \n",
    "\n",
    "temp = tf.matmul(tf.transpose(W2), dz3)\n",
    "temp2 = tf.multiply(a2, (1 - a2))\n",
    "\n",
    "dz2 = tf.multiply(temp, temp2)\n",
    "\n",
    "dw2 = tf.matmul(dz3, tf.transpose(a2))\n",
    "db2 = tf.reduce_sum(dz3, keep_dims = True)\n",
    "\n",
    "dw1 = tf.matmul(dz2, tf.transpose(a1))\n",
    "db1 = tf.reduce_sum(dz2,axis = 1, keep_dims = True)\n"
   ]
  },
  {
   "cell_type": "markdown",
   "metadata": {},
   "source": [
    "#### update the weight and calculate the cost"
   ]
  },
  {
   "cell_type": "code",
   "execution_count": 25,
   "metadata": {
    "collapsed": true
   },
   "outputs": [],
   "source": [
    "assign_op1 = W1.assign_sub(0.1 * dw1)\n",
    "assign_op2 = b1.assign_sub(0.1 * db1)\n",
    "\n",
    "assign_op3 = W2.assign_sub(0.1 * dw2)\n",
    "assign_op4 = b2.assign_sub(0.1 * db2)\n",
    "\n",
    "cost =-tf.reduce_sum(Y * tf.log(a3) + (1 - Y) * tf.log(1 - a3))\n",
    "\n",
    "iteration_cost = []"
   ]
  },
  {
   "cell_type": "markdown",
   "metadata": {},
   "source": [
    "#### Train our model"
   ]
  },
  {
   "cell_type": "code",
   "execution_count": 26,
   "metadata": {},
   "outputs": [
    {
     "name": "stdout",
     "output_type": "stream",
     "text": [
      "[[ 0.  1.  1.  0.]]\n"
     ]
    }
   ],
   "source": [
    "with tf.Session() as sess:\n",
    "    sess.run(W1.initializer)\n",
    "    sess.run(b1.initializer)\n",
    "    sess.run(W2.initializer)\n",
    "    sess.run(b2.initializer)\n",
    "    writer = tf.summary.FileWriter(\"./graphs\", sess.graph)\n",
    "    for i in range(6000):\n",
    "        sess.run(assign_op4, {X:X_data, Y:Y_data })\n",
    "        sess.run(assign_op3, {X:X_data, Y:Y_data})\n",
    "        sess.run(assign_op2, {X:X_data, Y:Y_data})\n",
    "        sess.run(assign_op1, {X:X_data, Y:Y_data})\n",
    "        iteration_cost.append(sess.run(cost, {X:X_data, Y:Y_data}))\n",
    "    W1_test = W1.eval()\n",
    "    b1_test = b1.eval()\n",
    "    \n",
    "    W2_test = W2.eval()\n",
    "    b2_test = b2.eval()\n",
    "    print(sess.run(Y, {X:X_data, Y:Y_data}))"
   ]
  },
  {
   "cell_type": "code",
   "execution_count": 27,
   "metadata": {},
   "outputs": [
    {
     "name": "stdout",
     "output_type": "stream",
     "text": [
      "[[ 4.83404303  4.82894611]\n",
      " [ 7.31801176  7.3225646 ]\n",
      " [ 2.20907235  2.21550775]]\n",
      "[[-7.47917652]\n",
      " [-3.40275168]\n",
      " [-3.62798762]]\n",
      "[[-10.69829082  12.71001053  -4.85359859]]\n",
      "[[-5.30940199]]\n"
     ]
    }
   ],
   "source": [
    "print(W1_test)\n",
    "print(b1_test) \n",
    "print(W2_test)\n",
    "print(b2_test)"
   ]
  },
  {
   "cell_type": "markdown",
   "metadata": {},
   "source": [
    "#### plot the cost over iteration"
   ]
  },
  {
   "cell_type": "code",
   "execution_count": 28,
   "metadata": {},
   "outputs": [
    {
     "data": {
      "image/png": "[encoded data removed]",
      "text/plain": [
       "<matplotlib.figure.Figure at 0x7ff83049e4e0>"
      ]
     },
     "metadata": {},
     "output_type": "display_data"
    }
   ],
   "source": [
    "plt.plot(iteration_cost)\n",
    "plt.show()"
   ]
  },
  {
   "cell_type": "markdown",
   "metadata": {},
   "source": [
    "#### Test our model and print accuracy"
   ]
  },
  {
   "cell_type": "code",
   "execution_count": 29,
   "metadata": {
    "collapsed": true
   },
   "outputs": [],
   "source": [
    "def sigmoid(x):\n",
    "    return 1 / (1 + np.exp(-x))"
   ]
  },
  {
   "cell_type": "code",
   "execution_count": 30,
   "metadata": {},
   "outputs": [
    {
     "name": "stdout",
     "output_type": "stream",
     "text": [
      "0.0 [[ 0.37776599]]\n",
      "1.0 [[ 0.19726815]]\n",
      "1.0 [[ 0.9830351]]\n",
      "0.0 [[ 0.00259556]]\n",
      "0.0 [[ 0.97679364]]\n",
      "1.0 [[ 0.99600706]]\n",
      "1.0 [[ 0.96300555]]\n",
      "0.0 [[ 0.0214843]]\n",
      "0.0 [[ 0.00533788]]\n",
      "1.0 [[ 0.99559111]]\n",
      "1.0 [[ 0.54907776]]\n",
      "0.0 [[ 0.00108546]]\n",
      "0.0 [[ 0.00603658]]\n",
      "1.0 [[ 0.99639216]]\n",
      "1.0 [[ 0.99186705]]\n",
      "0.0 [[ 0.00110486]]\n",
      "0.0 [[ 0.95873587]]\n",
      "1.0 [[ 0.03261231]]\n",
      "1.0 [[ 0.21240742]]\n",
      "0.0 [[ 0.00708942]]\n",
      "0.75\n"
     ]
    }
   ],
   "source": [
    "test_count = 5\n",
    "x_da = np.array(X_data)\n",
    "y_da = np.array(Y_data)\n",
    "total_data = 0\n",
    "correct_data = 0\n",
    "for i in range(test_count):\n",
    "    count = 0;\n",
    "    for x in x_da.T:\n",
    "        x = x + np.random.uniform(-0.5,0.5 ,[1,2])\n",
    "        a1 = x.T\n",
    "\n",
    "        z2 = np.matmul(W1_test,a1) + b1_test\n",
    "        a2 = sigmoid(z2)\n",
    "\n",
    "        z3 = np.matmul(W2_test,a2) + b2_test\n",
    "        a3 = sigmoid(z3)\n",
    "\n",
    "        if (abs(y_da[0,count]- a3) < 0.5):\n",
    "            correct_data = correct_data + 1\n",
    "        print(y_da[0,count], a3)\n",
    "        count = count +1\n",
    "        total_data = total_data + 1\n",
    "\n",
    "print(correct_data / total_data)    "
   ]
  },
  {
   "cell_type": "markdown",
   "metadata": {},
   "source": [
    "#### Decision boundary"
   ]
  },
  {
   "cell_type": "code",
   "execution_count": 31,
   "metadata": {
    "collapsed": true
   },
   "outputs": [],
   "source": [
    "boundary = []\n",
    "\n",
    "for i in np.linspace(-1,2,200):\n",
    "    for j in np.linspace(-1,2,200):\n",
    "        a1 = [[i],[j]]\n",
    "        \n",
    "        z2 = np.matmul(W1_test,a1) + b1_test\n",
    "        a2 = sigmoid(z2)\n",
    "\n",
    "        z3 = np.matmul(W2_test,a2) + b2_test\n",
    "        a3 = sigmoid(z3)\n",
    "        \n",
    "        if (a3 > 0.45) and (a3 < 0.55):\n",
    "            boundary.append([i,j])\n",
    "\n",
    "            "
   ]
  },
  {
   "cell_type": "code",
   "execution_count": 32,
   "metadata": {},
   "outputs": [
    {
     "data": {
      "image/png": "[encoded data removed]",
      "text/plain": [
       "<matplotlib.figure.Figure at 0x7ff8391dd6a0>"
      ]
     },
     "metadata": {},
     "output_type": "display_data"
    },
    {
     "name": "stdout",
     "output_type": "stream",
     "text": [
      "(654, 2)\n"
     ]
    }
   ],
   "source": [
    "value = np.array(boundary)\n",
    "plt.plot(value[:,0], value[:,1], 'r*')\n",
    "plt.show()\n",
    "print(value.shape)"
   ]
  },
  {
   "cell_type": "code",
   "execution_count": 36,
   "metadata": {},
   "outputs": [
    {
     "name": "stdout",
     "output_type": "stream",
     "text": [
      "[[ 0.00383266]]\n"
     ]
    }
   ],
   "source": [
    "a1 = [[1],[1]]\n",
    "    \n",
    "z2 = np.matmul(W1_test,a1) + b1_test\n",
    "a2 = sigmoid(z2)\n",
    "\n",
    "z3 = np.matmul(W2_test,a2) + b2_test\n",
    "a3 = sigmoid(z3)\n",
    "\n",
    "print(a3)"
   ]
  },
  {
   "cell_type": "code",
   "execution_count": null,
   "metadata": {
    "collapsed": true
   },
   "outputs": [],
   "source": []
  }
 ],
 "metadata": {
  "kernelspec": {
   "display_name": "Python 3",
   "language": "python",
   "name": "python3"
  },
  "language_info": {
   "codemirror_mode": {
    "name": "ipython",
    "version": 3
   },
   "file_extension": ".py",
   "mimetype": "text/x-python",
   "name": "python",
   "nbconvert_exporter": "python",
   "pygments_lexer": "ipython3",
   "version": "3.6.3"
  }
 },
 "nbformat": 4,
 "nbformat_minor": 2
}
