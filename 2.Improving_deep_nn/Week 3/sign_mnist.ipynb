{
 "cells": [
  {
   "cell_type": "markdown",
   "metadata": {},
   "source": [
    "#### SIGN Language MNIST recognition "
   ]
  },
  {
   "cell_type": "markdown",
   "metadata": {},
   "source": [
    "#### import the package needed"
   ]
  },
  {
   "cell_type": "code",
   "execution_count": 1,
   "metadata": {},
   "outputs": [],
   "source": [
    "import tensorflow as tf\n",
    "import numpy as np\n",
    "import matplotlib.pyplot as plt\n",
    "import csv\n",
    "import h5py\n",
    "\n",
    "%matplotlib inline"
   ]
  },
  {
   "cell_type": "markdown",
   "metadata": {},
   "source": [
    "#### load the dataset and view the data"
   ]
  },
  {
   "cell_type": "code",
   "execution_count": 16,
   "metadata": {},
   "outputs": [],
   "source": [
    "train_dataset = h5py.File('datasets/train_signs.h5', \"r\")\n",
    "train_set_x_orig = np.array(train_dataset[\"train_set_x\"][:]) # your train set features\n",
    "train_set_y_orig = np.array(train_dataset[\"train_set_y\"][:]) # your train set labels\n",
    "\n",
    "test_dataset = h5py.File('datasets/test_signs.h5', \"r\")\n",
    "test_set_x_orig = np.array(test_dataset[\"test_set_x\"][:]) # your test set features\n",
    "test_set_y_orig = np.array(test_dataset[\"test_set_y\"][:]) # your test set labels\n",
    "\n",
    "classes = np.array(test_dataset[\"list_classes\"][:]) # the list of classes\n",
    "    \n",
    "train_set_y_orig = train_set_y_orig.reshape((1, train_set_y_orig.shape[0]))\n",
    "test_set_y_orig = test_set_y_orig.reshape((1, test_set_y_orig.shape[0]))"
   ]
  },
  {
   "cell_type": "code",
   "execution_count": 17,
   "metadata": {},
   "outputs": [
    {
     "data": {
      "text/plain": [
       "((1080, 64, 64, 3), (1, 1080), (120, 64, 64, 3), array([0]))"
      ]
     },
     "execution_count": 17,
     "metadata": {},
     "output_type": "execute_result"
    },
    {
     "data": {
      "image/png": "[encoded data removed]",
      "text/plain": [
       "<matplotlib.figure.Figure at 0x7f4f4bccbcf8>"
      ]
     },
     "metadata": {},
     "output_type": "display_data"
    }
   ],
   "source": [
    "#view the dataset\n",
    "index = 1\n",
    "\n",
    "plt.imshow(train_set_x_orig[index,:])\n",
    "\n",
    "train_set_x_orig.shape, train_set_y_orig.shape, test_set_x_orig.shape,train_set_y_orig[:,index]"
   ]
  },
  {
   "cell_type": "markdown",
   "metadata": {},
   "source": [
    "#### preprocess the data"
   ]
  },
  {
   "cell_type": "code",
   "execution_count": 197,
   "metadata": {},
   "outputs": [
    {
     "data": {
      "text/plain": [
       "((12288, 1080), (12288, 120))"
      ]
     },
     "execution_count": 197,
     "metadata": {},
     "output_type": "execute_result"
    }
   ],
   "source": [
    "train_X = train_set_x_orig.reshape(1080,64*64*3)\n",
    "test_X  = test_set_x_orig.reshape(120,64*64*3)\n",
    "\n",
    "train_X = train_X / 255\n",
    "test_X = test_X / 255\n",
    "\n",
    "train_X = train_X.T\n",
    "test_X  = test_X.T\n",
    "\n",
    "train_X.shape, test_X.shape"
   ]
  },
  {
   "cell_type": "code",
   "execution_count": 10,
   "metadata": {},
   "outputs": [],
   "source": [
    "#one hot representation\n",
    "one_hot = tf.one_hot(train_set_y_orig, 6,axis = 0)\n",
    "\n",
    "with tf.Session() as sess:\n",
    "    train_Y = sess.run([one_hot])"
   ]
  },
  {
   "cell_type": "code",
   "execution_count": 14,
   "metadata": {},
   "outputs": [
    {
     "data": {
      "text/plain": [
       "(6, 1080)"
      ]
     },
     "execution_count": 14,
     "metadata": {},
     "output_type": "execute_result"
    }
   ],
   "source": [
    "train_Y = np.array(train_Y).reshape([6,1080])\n",
    "train_Y.shape"
   ]
  },
  {
   "cell_type": "code",
   "execution_count": 31,
   "metadata": {},
   "outputs": [
    {
     "data": {
      "text/plain": [
       "(12288, 1080)"
      ]
     },
     "execution_count": 31,
     "metadata": {},
     "output_type": "execute_result"
    }
   ],
   "source": [
    "train_X.shape"
   ]
  },
  {
   "cell_type": "code",
   "execution_count": 22,
   "metadata": {},
   "outputs": [],
   "source": [
    "m = 1080\n",
    "feature = 12288\n",
    "\n",
    "tf.reset_default_graph()"
   ]
  },
  {
   "cell_type": "markdown",
   "metadata": {},
   "source": [
    "#### create the placeholder for input and output"
   ]
  },
  {
   "cell_type": "code",
   "execution_count": 23,
   "metadata": {},
   "outputs": [],
   "source": [
    "X = tf.placeholder(shape=[feature,None], dtype =tf.float32 ,name = 'Input')\n",
    "Y = tf.placeholder(shape=[6,None], dtype=tf.float32, name = 'Output')"
   ]
  },
  {
   "cell_type": "markdown",
   "metadata": {},
   "source": [
    "#### initialize the weight "
   ]
  },
  {
   "cell_type": "code",
   "execution_count": 24,
   "metadata": {},
   "outputs": [],
   "source": [
    "W1 = tf.get_variable(shape= [25,feature], initializer= tf.contrib.layers.xavier_initializer(seed=1), dtype= tf.float32, name = 'Weight_l1')\n",
    "b1 = tf.get_variable(shape = [25,1], initializer=tf.zeros_initializer(), dtype= tf.float32, name = 'bias_l1')\n",
    "\n",
    "W2 = tf.get_variable(shape = [12,25], initializer=tf.contrib.layers.xavier_initializer(seed =1), dtype = tf.float32, name = 'Weight_l2')\n",
    "b2 = tf.get_variable(shape = [12,1], initializer=tf.zeros_initializer(), dtype= tf.float32, name = 'bias_l2')\n",
    "\n",
    "W3 = tf.get_variable(shape= [6,12], initializer= tf.contrib.layers.xavier_initializer(seed=1), dtype= tf.float32, name = 'Weight_l3')\n",
    "b3 = tf.get_variable(shape = [6,1], initializer=tf.zeros_initializer(), dtype= tf.float32, name = 'bias_l3')\n"
   ]
  },
  {
   "cell_type": "markdown",
   "metadata": {},
   "source": [
    "#### Forward propagation"
   ]
  },
  {
   "cell_type": "code",
   "execution_count": 25,
   "metadata": {},
   "outputs": [],
   "source": [
    "A0 = X\n",
    "\n",
    "Z1 = tf.matmul(W1, A0) + b1\n",
    "A1 = tf.nn.relu(Z1, 'hidden_l1')\n",
    "\n",
    "Z2 = tf.matmul(W2, A1) + b2\n",
    "A2 = tf.nn.relu(Z2, 'hidden_l2')\n",
    "\n",
    "Z3 = tf.matmul(W3, A2) + b3"
   ]
  },
  {
   "cell_type": "code",
   "execution_count": 46,
   "metadata": {},
   "outputs": [],
   "source": [
    "entropy = tf.nn.softmax_cross_entropy_with_logits(logits= tf.transpose(Z3), labels= tf.transpose(Y))\n",
    "\n",
    "loss = tf.reduce_mean(entropy, name = 'loss')\n",
    "\n",
    "optimization = tf.train.AdamOptimizer(learning_rate=0.0003).minimize(loss)\n",
    "\n",
    "init = tf.global_variables_initializer()"
   ]
  },
  {
   "cell_type": "code",
   "execution_count": 85,
   "metadata": {},
   "outputs": [],
   "source": [
    "batch_size = 64\n",
    "batch_iteration = 16\n",
    "\n",
    "epoch = 500\n",
    "iteration_cost = []"
   ]
  },
  {
   "cell_type": "code",
   "execution_count": 86,
   "metadata": {},
   "outputs": [],
   "source": [
    "with tf.Session() as sess:\n",
    "    sess.run(init)\n",
    "    \n",
    "    writer = tf.summary.FileWriter('./graphs/sign', sess.graph)\n",
    "    for i in range(epoch):\n",
    "        \n",
    "        for j in range(batch_iteration):\n",
    "            _,l = sess.run([optimization, loss], {X:train_X[:,j*batch_size:(j+1)*batch_size], Y:train_Y[:,j*batch_size:(j+1)*batch_size]})\n",
    "            iteration_cost.append(l)\n",
    "            \n",
    "        _,l = sess.run([optimization, loss], {X:train_X[:,1024:], Y:train_Y[:,1024:]})\n",
    "        iteration_cost.append(l)\n",
    "        \n",
    "    w_1 = W1.eval()\n",
    "    b_1 = b1.eval()\n",
    "    w_2 = W2.eval()\n",
    "    b_2 = b2.eval()\n",
    "    w_3 = W3.eval()\n",
    "    b_3 = b3.eval()\n",
    "    writer.close()"
   ]
  },
  {
   "cell_type": "code",
   "execution_count": 87,
   "metadata": {},
   "outputs": [
    {
     "data": {
      "text/plain": [
       "[<matplotlib.lines.Line2D at 0x7f4f299733c8>]"
      ]
     },
     "execution_count": 87,
     "metadata": {},
     "output_type": "execute_result"
    },
    {
     "data": {
      "image/png": "[encoded data removed]",
      "text/plain": [
       "<matplotlib.figure.Figure at 0x7f4f29ac35f8>"
      ]
     },
     "metadata": {},
     "output_type": "display_data"
    }
   ],
   "source": [
    "iter_cost = np.array(iteration_cost)\n",
    "plt.plot(iter_cost[3:],'r*')"
   ]
  },
  {
   "cell_type": "code",
   "execution_count": 143,
   "metadata": {},
   "outputs": [
    {
     "data": {
      "text/plain": [
       "<matplotlib.image.AxesImage at 0x7f4f29394b00>"
      ]
     },
     "execution_count": 143,
     "metadata": {},
     "output_type": "execute_result"
    },
    {
     "data": {
      "image/png": "[encoded data removed]",
      "text/plain": [
       "<matplotlib.figure.Figure at 0x7f4f290bddd8>"
      ]
     },
     "metadata": {},
     "output_type": "display_data"
    }
   ],
   "source": [
    "plt.imshow(w_1[14,:].reshape([64,64,3])+0.3)\n"
   ]
  },
  {
   "cell_type": "code",
   "execution_count": 196,
   "metadata": {},
   "outputs": [
    {
     "data": {
      "text/plain": [
       "<matplotlib.image.AxesImage at 0x7f4f28ac6710>"
      ]
     },
     "execution_count": 196,
     "metadata": {},
     "output_type": "execute_result"
    },
    {
     "data": {
      "image/png": "[encoded data removed]",
      "text/plain": [
       "<matplotlib.figure.Figure at 0x7f4f28b06eb8>"
      ]
     },
     "metadata": {},
     "output_type": "display_data"
    }
   ],
   "source": [
    "plt.imshow((w_1[20,:].reshape([64,64,3]))+0.2)\n"
   ]
  },
  {
   "cell_type": "code",
   "execution_count": 88,
   "metadata": {},
   "outputs": [
    {
     "data": {
      "text/plain": [
       "array([[ 0.00242826,  0.00657326],\n",
       "       [ 0.97962921,  0.01786798],\n",
       "       [ 0.01794253,  0.97555875]])"
      ]
     },
     "execution_count": 88,
     "metadata": {},
     "output_type": "execute_result"
    }
   ],
   "source": [
    "def relu(z):\n",
    "    return np.maximum(0,z)\n",
    "\n",
    "def sigmoid(z):\n",
    "    return 1 / (1 + np.exp(-z))\n",
    "\n",
    "def tanh(z):\n",
    "    return (np.exp(z) - np.exp(-z)) / (np.exp(z) + np.exp(-z))\n",
    "\n",
    "def softmax(z):\n",
    "    exp_z = np.exp(z)\n",
    "    total = np.sum(exp_z, axis = 0)\n",
    "    return exp_z / (total)\n",
    "\n",
    "test = np.array([[-1.0 ,2.0], [5.0, 3.0], [1.0, 7.0]])\n",
    "\n",
    "softmax(test)"
   ]
  },
  {
   "cell_type": "markdown",
   "metadata": {},
   "source": [
    "####  prediction and training error"
   ]
  },
  {
   "cell_type": "code",
   "execution_count": 89,
   "metadata": {},
   "outputs": [
    {
     "name": "stdout",
     "output_type": "stream",
     "text": [
      "Training accuracy  0.850925925926\n"
     ]
    }
   ],
   "source": [
    "A_0 = train_X\n",
    "\n",
    "Z_1 = np.dot(w_1, A_0) + b_1\n",
    "A_1 = relu(Z_1)\n",
    "\n",
    "Z_2 = np.dot(w_2, A_1) + b_2\n",
    "A_2 = relu(Z_2)\n",
    "\n",
    "Z_3 = np.dot(w_3, A_2) + b_3\n",
    "A_3 = softmax(Z_3)\n",
    "\n",
    "index = np.argmax(A_3, axis = 0)\n",
    "correct_train_number = np.sum(np.abs(train_set_y_orig - index) < 0.5)\n",
    "\n",
    "print('Training accuracy ', correct_train_number / m)"
   ]
  },
  {
   "cell_type": "code",
   "execution_count": 199,
   "metadata": {},
   "outputs": [
    {
     "name": "stdout",
     "output_type": "stream",
     "text": [
      "Training accuracy  0.65\n"
     ]
    }
   ],
   "source": [
    "A_0 = test_X\n",
    "\n",
    "Z_1 = np.dot(w_1, A_0) + b_1\n",
    "A_1 = relu(Z_1)\n",
    "\n",
    "Z_2 = np.dot(w_2, A_1) + b_2\n",
    "A_2 = relu(Z_2)\n",
    "\n",
    "Z_3 = np.dot(w_3, A_2) + b_3\n",
    "A_3 = softmax(Z_3)\n",
    "\n",
    "index = np.argmax(A_3, axis = 0)\n",
    "correct_train_number = np.sum(np.abs(test_set_y_orig - index) < 0.5)\n",
    "\n",
    "print('Training accuracy ', correct_train_number / 120)"
   ]
  },
  {
   "cell_type": "markdown",
   "metadata": {},
   "source": [
    "### Comment\n",
    "### The model perform well in training set 85% accuracy while in the test set is 65%, because test set have image thumbs up (six). But we trained upto 5."
   ]
  },
  {
   "cell_type": "code",
   "execution_count": null,
   "metadata": {},
   "outputs": [],
   "source": []
  }
 ],
 "metadata": {
  "kernelspec": {
   "display_name": "Python 3",
   "language": "python",
   "name": "python3"
  },
  "language_info": {
   "codemirror_mode": {
    "name": "ipython",
    "version": 3
   },
   "file_extension": ".py",
   "mimetype": "text/x-python",
   "name": "python",
   "nbconvert_exporter": "python",
   "pygments_lexer": "ipython3",
   "version": "3.6.3"
  }
 },
 "nbformat": 4,
 "nbformat_minor": 2
}
