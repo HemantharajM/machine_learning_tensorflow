{
 "cells": [
  {
   "cell_type": "markdown",
   "metadata": {},
   "source": [
    "### Handwritten Digit recognition using SVM "
   ]
  },
  {
   "cell_type": "markdown",
   "metadata": {},
   "source": [
    "#### import useful package"
   ]
  },
  {
   "cell_type": "code",
   "execution_count": 1,
   "metadata": {},
   "outputs": [],
   "source": [
    "import tensorflow as tf\n",
    "import numpy as np\n",
    "import matplotlib.pyplot as plt\n",
    "from tensorflow.examples.tutorials.mnist import input_data\n",
    "\n",
    "%matplotlib inline"
   ]
  },
  {
   "cell_type": "markdown",
   "metadata": {},
   "source": [
    "#### plot the data and create train and test set"
   ]
  },
  {
   "cell_type": "code",
   "execution_count": 2,
   "metadata": {},
   "outputs": [
    {
     "name": "stdout",
     "output_type": "stream",
     "text": [
      "Extracting MNIST_data/train-images-idx3-ubyte.gz\n",
      "Extracting MNIST_data/train-labels-idx1-ubyte.gz\n",
      "Extracting MNIST_data/t10k-images-idx3-ubyte.gz\n",
      "Extracting MNIST_data/t10k-labels-idx1-ubyte.gz\n"
     ]
    }
   ],
   "source": [
    "mnist = input_data.read_data_sets(\"MNIST_data/\", one_hot=True)\n"
   ]
  },
  {
   "cell_type": "code",
   "execution_count": 120,
   "metadata": {},
   "outputs": [
    {
     "name": "stdout",
     "output_type": "stream",
     "text": [
      "(784, 55000) (10, 55000)\n"
     ]
    }
   ],
   "source": [
    "X_train = mnist.train.images.T\n",
    "Y_train = mnist.train.labels.T\n",
    "\n",
    "X_test = mnist.test.images.T\n",
    "Y_test = mnist.test.labels.T\n",
    "\n",
    "print(X_train.shape, Y_train.shape)\n",
    "\n",
    "m = 55000\n",
    "tf.reset_default_graph()"
   ]
  },
  {
   "cell_type": "code",
   "execution_count": 121,
   "metadata": {},
   "outputs": [
    {
     "name": "stdout",
     "output_type": "stream",
     "text": [
      "[ 0.  0.  0.  0.  0.  0.  0.  0.  1.  0.]\n"
     ]
    },
    {
     "data": {
      "image/png": "[encoded data removed]",
      "text/plain": [
       "<matplotlib.figure.Figure at 0x7fa91a892a20>"
      ]
     },
     "metadata": {},
     "output_type": "display_data"
    }
   ],
   "source": [
    "#plot the data\n",
    "index = 30\n",
    "image = X_train[:,index]\n",
    "\n",
    "plt.imshow(image.reshape([28,28]), cmap = 'gray')\n",
    "print(Y_train[:,index])"
   ]
  },
  {
   "cell_type": "markdown",
   "metadata": {},
   "source": [
    "#### Create placeholder for input and output"
   ]
  },
  {
   "cell_type": "code",
   "execution_count": 122,
   "metadata": {},
   "outputs": [],
   "source": [
    "X = tf.placeholder(tf.float32,shape = [784, None], name = 'Input')\n",
    "Y = tf.placeholder(tf.float32, shape = [10, None], name = 'Output')\n",
    "\n",
    "W1 = tf.get_variable(shape = [25,784], initializer= tf.contrib.layers.xavier_initializer(seed =1), dtype =tf.float32, name = 'Weight_l1')\n",
    "b1 = tf.get_variable(shape = [25,1], initializer= tf.zeros_initializer(), dtype = tf.float32, name = 'bias_l1')\n",
    "\n",
    "W2 = tf.get_variable(shape = [12,25], initializer= tf.contrib.layers.xavier_initializer(seed = 2), dtype = tf.float32, name = 'Weight_l2')\n",
    "b2 = tf.get_variable(shape = [12,1], initializer= tf.zeros_initializer(), dtype= tf.float32, name ='bias_l2')\n",
    "\n",
    "W3 = tf.get_variable(shape = [10,12], initializer= tf.contrib.layers.xavier_initializer(seed = 3), dtype = tf.float32, name = 'Weight_l3')\n",
    "b3 = tf.get_variable(shape = [10,1], initializer= tf.zeros_initializer(), dtype= tf.float32, name ='bias_l3')\n",
    "\n",
    "#model of deep layer\n",
    "A0 = X\n",
    "\n",
    "Z1 = tf.matmul(W1, A0) + b1\n",
    "A1 = tf.nn.relu(Z1, 'hidden_layer_one')\n",
    "\n",
    "Z2 = tf.matmul(W2, A1) + b2\n",
    "A2 = tf.nn.relu(Z2, 'hidden_layer_two')\n",
    "\n",
    "Z3 = tf.matmul(W3, A2) + b3"
   ]
  },
  {
   "cell_type": "code",
   "execution_count": 123,
   "metadata": {},
   "outputs": [],
   "source": [
    "entropy = tf.nn.softmax_cross_entropy_with_logits(logits=tf.transpose(Z3), labels= tf.transpose(Y))\n",
    "loss = tf.reduce_mean(entropy, name = 'loss')"
   ]
  },
  {
   "cell_type": "code",
   "execution_count": 124,
   "metadata": {},
   "outputs": [],
   "source": [
    "optimizer = tf.train.AdamOptimizer(learning_rate=0.01).minimize(loss)\n",
    "init = tf.global_variables_initializer()"
   ]
  },
  {
   "cell_type": "code",
   "execution_count": 132,
   "metadata": {},
   "outputs": [],
   "source": [
    "epoch = 10\n",
    "batch_size = 512\n",
    "batch_iteration = 107\n",
    "\n",
    "iteration_cost = []"
   ]
  },
  {
   "cell_type": "code",
   "execution_count": 133,
   "metadata": {},
   "outputs": [],
   "source": [
    "loss_vec = []\n",
    "train_accuracy = []\n",
    "test_accuracy = []\n",
    "\n",
    "with tf.Session() as sess:\n",
    "    sess.run(init)\n",
    "    for i in range(epoch):\n",
    "        for j in range(batch_iteration):\n",
    "            _,l = sess.run([optimizer, loss], {X:X_train[:,j*batch_size:(j+1)*batch_size], Y:Y_train[:,j*batch_size:(j+1)*batch_size]})\n",
    "            iteration_cost.append(l)\n",
    "        _,l =  sess.run([optimizer, loss], {X: X_train[:,54784:], Y: Y_train[:,54784:]})\n",
    "        iteration_cost.append(l)\n",
    "    w_1 = W1.eval()\n",
    "    b_1 = b1.eval()\n",
    "    w_2 = W2.eval()\n",
    "    b_2 = b2.eval()\n",
    "    w_3 = W3.eval()\n",
    "    b_3 = b3.eval()"
   ]
  },
  {
   "cell_type": "code",
   "execution_count": 134,
   "metadata": {},
   "outputs": [
    {
     "data": {
      "text/plain": [
       "[<matplotlib.lines.Line2D at 0x7fa9265600b8>]"
      ]
     },
     "execution_count": 134,
     "metadata": {},
     "output_type": "execute_result"
    },
    {
     "data": {
      "image/png": "[encoded data removed]",
      "text/plain": [
       "<matplotlib.figure.Figure at 0x7fa926562b00>"
      ]
     },
     "metadata": {},
     "output_type": "display_data"
    }
   ],
   "source": [
    "plt.plot(iteration_cost, 'r*')\n"
   ]
  },
  {
   "cell_type": "code",
   "execution_count": 135,
   "metadata": {},
   "outputs": [
    {
     "data": {
      "text/plain": [
       "<matplotlib.image.AxesImage at 0x7fa91a8092e8>"
      ]
     },
     "execution_count": 135,
     "metadata": {},
     "output_type": "execute_result"
    },
    {
     "data": {
      "image/png": "[encoded data removed]",
      "text/plain": [
       "<matplotlib.figure.Figure at 0x7fa92e989240>"
      ]
     },
     "metadata": {},
     "output_type": "display_data"
    }
   ],
   "source": [
    "plt.imshow(w_test[0,:].reshape(28,28))"
   ]
  },
  {
   "cell_type": "code",
   "execution_count": 136,
   "metadata": {},
   "outputs": [
    {
     "data": {
      "text/plain": [
       "<matplotlib.image.AxesImage at 0x7fa92f70c588>"
      ]
     },
     "execution_count": 136,
     "metadata": {},
     "output_type": "execute_result"
    },
    {
     "data": {
      "image/png": "[encoded data removed]",
      "text/plain": [
       "<matplotlib.figure.Figure at 0x7fa91a80fc18>"
      ]
     },
     "metadata": {},
     "output_type": "display_data"
    }
   ],
   "source": [
    "plt.imshow(w_test[6,:].reshape(28,28)*5)"
   ]
  },
  {
   "cell_type": "code",
   "execution_count": 137,
   "metadata": {},
   "outputs": [
    {
     "data": {
      "text/plain": [
       "array([[  9.11051194e-04,   1.00000000e+00],\n",
       "       [  9.99088949e-01,   2.78946809e-10]])"
      ]
     },
     "execution_count": 137,
     "metadata": {},
     "output_type": "execute_result"
    }
   ],
   "source": [
    "def relu(Z):\n",
    "    return np.maximum(0,Z)\n",
    "\n",
    "def softmax(Z):\n",
    "    exp_z = np.exp(Z)\n",
    "    sum_exp = np.sum(exp_z, axis = 0)\n",
    "    return exp_z / sum_exp\n",
    "\n",
    "test = np.array([[1.0, 20.0], [8.0, -2]])\n",
    "\n",
    "softmax(test)"
   ]
  },
  {
   "cell_type": "code",
   "execution_count": 138,
   "metadata": {},
   "outputs": [
    {
     "name": "stdout",
     "output_type": "stream",
     "text": [
      "Training Accuracy  0.959890909091\n"
     ]
    }
   ],
   "source": [
    "correct_no = 0\n",
    "total_no = 55000\n",
    "\n",
    "A_0 = X_train\n",
    "\n",
    "Z_1 = np.dot(w_1, A_0) + b_1\n",
    "A_1 = relu(Z_1)\n",
    "\n",
    "Z_2 = np.dot(w_2, A_1) + b_2\n",
    "A_2 = relu(Z_2)\n",
    "\n",
    "z_3 = np.dot(w_3, A_2) + b_3\n",
    "A_3 = softmax(z_3)\n",
    "\n",
    "correct_no = np.sum(np.abs(np.argmax(A_3,axis = 0)- np.argmax(Y_train,axis =0)) < 0.5)\n",
    "\n",
    "print('Training Accuracy ', correct_no / total_no)"
   ]
  },
  {
   "cell_type": "code",
   "execution_count": 139,
   "metadata": {},
   "outputs": [
    {
     "name": "stdout",
     "output_type": "stream",
     "text": [
      "Testing Accuracy  0.9518\n"
     ]
    }
   ],
   "source": [
    "correct_no = 0\n",
    "total_no = 10000\n",
    "\n",
    "A_0 = X_test\n",
    "\n",
    "Z_1 = np.dot(w_1, A_0) + b_1\n",
    "A_1 = relu(Z_1)\n",
    "\n",
    "Z_2 = np.dot(w_2, A_1) + b_2\n",
    "A_2 = relu(Z_2)\n",
    "\n",
    "Z_3 = np.dot(w_3,A_2) + b_3\n",
    "A_3 = softmax(Z_3)\n",
    "\n",
    "correct_no = np.sum(np.abs(np.argmax(A_3,axis = 0)- np.argmax(Y_test,axis =0)) < 0.5)\n",
    "\n",
    "print('Testing Accuracy ', correct_no / total_no)"
   ]
  },
  {
   "cell_type": "markdown",
   "metadata": {},
   "source": [
    "#### Comment\n",
    "#### Neural network performance better in recognize the digit with training accuracy of 96% while testing accuracy 95%."
   ]
  },
  {
   "cell_type": "code",
   "execution_count": null,
   "metadata": {},
   "outputs": [],
   "source": []
  }
 ],
 "metadata": {
  "kernelspec": {
   "display_name": "Python 3",
   "language": "python",
   "name": "python3"
  },
  "language_info": {
   "codemirror_mode": {
    "name": "ipython",
    "version": 3
   },
   "file_extension": ".py",
   "mimetype": "text/x-python",
   "name": "python",
   "nbconvert_exporter": "python",
   "pygments_lexer": "ipython3",
   "version": "3.6.3"
  }
 },
 "nbformat": 4,
 "nbformat_minor": 2
}
